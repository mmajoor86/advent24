{
 "cells": [
  {
   "cell_type": "code",
   "execution_count": 5,
   "metadata": {},
   "outputs": [],
   "source": [
    "# import exercise and libs\n",
    "\n",
    "import numpy as np\n",
    "import pandas as pd\n",
    "from aocd import get_data\n",
    "import re\n",
    "\n",
    "data = get_data(day=3, year=2024)\n",
    "\n",
    "test_data = '''xmul(2,4)%&mul[3,7]!@^do_not_mul(5,5)+mul(32,64]then(mul(11,8)mul(8,5))'''"
   ]
  },
  {
   "cell_type": "markdown",
   "metadata": {},
   "source": [
    "# part 1"
   ]
  },
  {
   "cell_type": "code",
   "execution_count": 24,
   "metadata": {},
   "outputs": [
    {
     "data": {
      "text/plain": [
       "np.int64(183380722)"
      ]
     },
     "execution_count": 24,
     "metadata": {},
     "output_type": "execute_result"
    }
   ],
   "source": [
    "# Define the pattern\n",
    "pattern = r\"mul\\((\\d+),(\\d+)\\)\" \n",
    "\n",
    "found = re.findall(pattern, data)\n",
    "res = []\n",
    "for i in found:\n",
    "    mult = int(i[0])* int(i[1])\n",
    "    res.append(mult)\n",
    "\n",
    "np.sum(res)"
   ]
  },
  {
   "cell_type": "markdown",
   "metadata": {},
   "source": [
    "# part two"
   ]
  },
  {
   "cell_type": "code",
   "execution_count": 104,
   "metadata": {},
   "outputs": [],
   "source": [
    "test_data = '''xmul(2,4)&mul[3,7]!^don't()_mul(5,5)+mul(32,64](mul(11,8)undo()?mul(8,5))'''\n",
    "split_text = re.split(r\"(don't\\(\\)|do\\(\\))\",data)"
   ]
  },
  {
   "cell_type": "code",
   "execution_count": 105,
   "metadata": {},
   "outputs": [],
   "source": [
    "# split list and add 1 because the first one is correct\n",
    "l2 = [0 if i == \"don't()\" else 1 if i == \"do()\" else i for i in split_text]\n",
    "l2.insert(0, 1)"
   ]
  },
  {
   "cell_type": "code",
   "execution_count": null,
   "metadata": {},
   "outputs": [],
   "source": [
    "# define the pattern to search for and search for it in all elements of the list\n",
    "pattern = r\"mul\\((\\d+),(\\d+)\\)\" \n",
    "res = [re.findall(pattern, i) for i in l2[1::2]]\n",
    "\n",
    "# compute mul() for all valid entries in the list\n",
    "tot = []\n",
    "for lijst in res:\n",
    "    subtot= []\n",
    "    for item in lijst:\n",
    "        mult = int(item[0])* int(item[1])\n",
    "        subtot.append(mult)\n",
    "    tot.append(np.sum(subtot))"
   ]
  },
  {
   "cell_type": "code",
   "execution_count": null,
   "metadata": {},
   "outputs": [
    {
     "data": {
      "text/plain": [
       "np.int64(82733683)"
      ]
     },
     "execution_count": 107,
     "metadata": {},
     "output_type": "execute_result"
    }
   ],
   "source": [
    "# multiply boolean with the values and sum for the final result\n",
    "df = pd.DataFrame(zip(l2[0::2],tot))\n",
    "df['result'] = df[0] * df[1]\n",
    "df['result'].sum()"
   ]
  }
 ],
 "metadata": {
  "kernelspec": {
   "display_name": ".venv",
   "language": "python",
   "name": "python3"
  },
  "language_info": {
   "codemirror_mode": {
    "name": "ipython",
    "version": 3
   },
   "file_extension": ".py",
   "mimetype": "text/x-python",
   "name": "python",
   "nbconvert_exporter": "python",
   "pygments_lexer": "ipython3",
   "version": "3.12.7"
  }
 },
 "nbformat": 4,
 "nbformat_minor": 2
}
