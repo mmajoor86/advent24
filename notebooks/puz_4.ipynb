{
 "cells": [
  {
   "cell_type": "markdown",
   "metadata": {},
   "source": [
    "# import data and libs"
   ]
  },
  {
   "cell_type": "code",
   "execution_count": null,
   "metadata": {},
   "outputs": [],
   "source": [
    "\n",
    "import numpy as np\n",
    "import pandas as pd\n",
    "from aocd import get_data\n",
    "import re\n",
    "from typing import List\n",
    "\n",
    "data = get_data(day=4, year=2024)\n",
    "\n",
    "test_data = '''MMMSXXMASM\n",
    "MSAMXMSMSA\n",
    "AMXSXMAAMM\n",
    "MSAMASMSMX\n",
    "XMASAMXAMM\n",
    "XXAMMXXAMA\n",
    "SMSMSASXSS\n",
    "SAXAMASAAA\n",
    "MAMMMXMMMM\n",
    "MXMXAXMASX'''"
   ]
  },
  {
   "cell_type": "markdown",
   "metadata": {},
   "source": [
    "# Convert String to Matrix"
   ]
  },
  {
   "cell_type": "code",
   "execution_count": null,
   "metadata": {},
   "outputs": [],
   "source": [
    "# split to rows\n",
    "r_data = data.split('\\n')\n",
    "empty_list = []\n",
    "for row in r_data:\n",
    "    empty_list.append(list(row))\n",
    "\n",
    "matrix = np.stack(empty_list, axis=0)\n",
    "matrix"
   ]
  },
  {
   "cell_type": "markdown",
   "metadata": {},
   "source": [
    "# part one"
   ]
  },
  {
   "cell_type": "code",
   "execution_count": null,
   "metadata": {},
   "outputs": [],
   "source": [
    "# Define the directions to search\n",
    "directions = [\n",
    "    (0, 1),   # right\n",
    "    (0, -1),  # left\n",
    "    (1, 0),   # down\n",
    "    (-1, 0),  # up\n",
    "    (1, 1),   # down-right\n",
    "    (-1, -1), # up-left\n",
    "    (1, -1),  # down-left\n",
    "    (-1, 1)   # up-right\n",
    "]\n",
    "\n",
    "# Function to find all occurrences of \"XMAS\"\n",
    "def find_xmas(matrix):\n",
    "    rows = len(matrix)\n",
    "    cols = len(matrix[0])\n",
    "    target = \"XMAS\"\n",
    "    occurrences = []\n",
    "\n",
    "    # Function to check if the word can be found starting from (x, y) in a given direction\n",
    "    def search_direction(x, y, dx, dy):\n",
    "        for k in range(len(target)):\n",
    "            nx, ny = x + k * dx, y + k * dy\n",
    "            if not (0 <= nx < rows and 0 <= ny < cols and matrix[nx][ny] == target[k]):\n",
    "                return False\n",
    "        return True\n",
    "\n",
    "    # Iterate through the matrix\n",
    "    for i in range(rows):\n",
    "        for j in range(cols):\n",
    "            if matrix[i][j] == 'X':\n",
    "                for dx, dy in directions:\n",
    "                    if search_direction(i, j, dx, dy):\n",
    "                        occurrences.append((i, j))\n",
    "\n",
    "    return occurrences\n",
    "\n",
    "# Find all occurrences of \"XMAS\"\n",
    "result = find_xmas(matrix)\n",
    "\n",
    "# Print the result\n",
    "print(f\"# Positions of 'XMAS': {len(result)}\")\n"
   ]
  },
  {
   "cell_type": "code",
   "execution_count": null,
   "metadata": {},
   "outputs": [],
   "source": [
    "# Define the patterns dimensions\n",
    "pattern1 = [\n",
    "    ['M', '.', 'S'],\n",
    "    ['.', 'A', '.'],\n",
    "    ['M', '.', 'S']\n",
    "]\n",
    "\n",
    "pattern2 = [\n",
    "    ['S', '.', 'M'],\n",
    "    ['.', 'A', '.'],\n",
    "    ['S', '.', 'M']\n",
    "]\n",
    "\n",
    "pattern3 = [\n",
    "    ['S', '.', 'S'],\n",
    "    ['.', 'A', '.'],\n",
    "    ['M', '.', 'M']\n",
    "]\n",
    "\n",
    "pattern4 = [\n",
    "    ['M', '.', 'M'],\n",
    "    ['.', 'A', '.'],\n",
    "    ['S', '.', 'S']\n",
    "]\n",
    "\n",
    "# Function to check if the pattern exists at a given position (i, j)\n",
    "def matches_pattern(matrix, i, j, pattern):\n",
    "    pattern_rows = len(pattern)\n",
    "    pattern_cols = len(pattern[0])\n",
    "    for x in range(pattern_rows):\n",
    "        for y in range(pattern_cols):\n",
    "            if pattern[x][y] != '.' and pattern[x][y] != matrix[i + x][j + y]:\n",
    "                return False\n",
    "    return True\n",
    "\n",
    "# Function to find all occurrences of the pattern\n",
    "def find_pattern(matrix, pattern):\n",
    "    rows = len(matrix)\n",
    "    cols = len(matrix[0])\n",
    "    pattern_rows = len(pattern)\n",
    "    pattern_cols = len(pattern[0])\n",
    "    positions = []\n",
    "\n",
    "    for i in range(rows - pattern_rows + 1):\n",
    "        for j in range(cols - pattern_cols + 1):\n",
    "            if matches_pattern(matrix, i, j, pattern):\n",
    "                positions.append((i, j))\n",
    "\n",
    "    return positions\n",
    "\n",
    "# Find all occurrences of each pattern\n",
    "result1 = find_pattern(matrix, pattern1)\n",
    "result2 = find_pattern(matrix, pattern2)\n",
    "result3 = find_pattern(matrix, pattern3)\n",
    "result4 = find_pattern(matrix, pattern4)\n",
    "\n",
    "print(len(result1)+ len(result2) + len(result3)+ len(result4))\n"
   ]
  },
  {
   "cell_type": "code",
   "execution_count": null,
   "metadata": {},
   "outputs": [],
   "source": []
  },
  {
   "cell_type": "code",
   "execution_count": null,
   "metadata": {},
   "outputs": [],
   "source": []
  },
  {
   "cell_type": "code",
   "execution_count": null,
   "metadata": {},
   "outputs": [],
   "source": []
  }
 ],
 "metadata": {
  "kernelspec": {
   "display_name": ".venv",
   "language": "python",
   "name": "python3"
  },
  "language_info": {
   "codemirror_mode": {
    "name": "ipython",
    "version": 3
   },
   "file_extension": ".py",
   "mimetype": "text/x-python",
   "name": "python",
   "nbconvert_exporter": "python",
   "pygments_lexer": "ipython3",
   "version": "3.12.8"
  }
 },
 "nbformat": 4,
 "nbformat_minor": 2
}
