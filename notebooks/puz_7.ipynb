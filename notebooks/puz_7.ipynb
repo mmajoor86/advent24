{
 "cells": [
  {
   "cell_type": "markdown",
   "metadata": {},
   "source": [
    "# import libs"
   ]
  },
  {
   "cell_type": "code",
   "execution_count": null,
   "metadata": {},
   "outputs": [],
   "source": [
    "import numpy as np\n",
    "import pandas as pd\n",
    "from aocd import get_data\n",
    "import re\n",
    "import copy"
   ]
  },
  {
   "cell_type": "markdown",
   "metadata": {},
   "source": [
    "# import and clean data"
   ]
  },
  {
   "cell_type": "code",
   "execution_count": null,
   "metadata": {},
   "outputs": [],
   "source": [
    "data = get_data(day=7, year=2024)\n",
    "\n",
    "test_data = '''190: 10 19\n",
    "3267: 81 40 27\n",
    "83: 17 5\n",
    "156: 15 6\n",
    "7290: 6 8 6 15\n",
    "161011: 16 10 13\n",
    "192: 17 8 14\n",
    "21037: 9 7 18 13\n",
    "292: 11 6 16 20'''\n",
    "\n",
    "data_split = [[int(row.split(':')[0]), \n",
    "               row.split(':')[1].lstrip()] for row in data.split('\\n')]\n",
    "\n",
    "print(data_split[0:4])"
   ]
  },
  {
   "cell_type": "code",
   "execution_count": null,
   "metadata": {},
   "outputs": [],
   "source": [
    "OPERATORS = ['+', '*', '||']\n",
    "\n",
    "from itertools import product\n",
    "\n",
    "def evaluate_left_to_right(expression):\n",
    "    # Initialize the result with the first number\n",
    "    i = 0\n",
    "    while i < len(expression):\n",
    "        if expression[i] in \"+*\":\n",
    "            break\n",
    "        i += 1\n",
    "    \n",
    "    result = int(expression[:i])\n",
    "    \n",
    "    # Iterate through the rest of the expression\n",
    "    while i < len(expression):\n",
    "        operator = expression[i]\n",
    "        i += 1\n",
    "        next_num_start = i\n",
    "        while i < len(expression) and expression[i] not in \"+*\":\n",
    "            i += 1\n",
    "        next_number = int(expression[next_num_start:i])\n",
    "        \n",
    "        if operator == '+':\n",
    "            result += next_number\n",
    "        elif operator == '*':\n",
    "            result *= next_number\n",
    "    \n",
    "    return result\n",
    "\n",
    "\n",
    "\n",
    "def check_equation(data_row):\n",
    "    answer = data_row[0]\n",
    "    numbers = data_row[1].split()\n",
    "    operators = list(product(OPERATORS, repeat=len(numbers) - 1))\n",
    "    for op in operators:\n",
    "        expression = numbers[0]\n",
    "        for i in range(1, len(numbers)):\n",
    "            expression += op[i-1] + numbers[i]\n",
    "        ans_exp = evaluate_left_to_right(expression)\n",
    "        if ans_exp == answer:\n",
    "            print(f' YES: {expression} = {answer}')\n",
    "            return ans_exp\n",
    "    print(f'no: numbers{}')\n",
    "    return 0\n",
    "\n",
    "def check_all(data):\n",
    "    results = [check_equation(row) for row in data_split]\n",
    "    return results"
   ]
  },
  {
   "cell_type": "code",
   "execution_count": null,
   "metadata": {},
   "outputs": [],
   "source": [
    "# ans 1\n",
    "results = check_all(data)\n",
    "np.sum(results)"
   ]
  },
  {
   "cell_type": "code",
   "execution_count": null,
   "metadata": {},
   "outputs": [],
   "source": [
    "def evaluate_left_to_right(expression):\n",
    "    # Replace all instances of '||' with a single '|'\n",
    "    expression = expression.replace('||', '|')\n",
    "    \n",
    "    # Initialize the result with the first number\n",
    "    i = 0\n",
    "    while i < len(expression) and expression[i].isdigit():\n",
    "        i += 1\n",
    "    \n",
    "    result = int(expression[:i])\n",
    "    \n",
    "    # Iterate through the rest of the expression\n",
    "    while i < len(expression):\n",
    "        operator = expression[i]\n",
    "        i += 1\n",
    "        \n",
    "        next_num_start = i\n",
    "        while i < len(expression) and expression[i].isdigit():\n",
    "            i += 1\n",
    "        next_number = expression[next_num_start:i]\n",
    "        \n",
    "        if operator == '+':\n",
    "            result += int(next_number)\n",
    "        elif operator == '*':\n",
    "            result *= int(next_number)\n",
    "        elif operator == '|':\n",
    "            result = int(str(result) + next_number)\n",
    "    \n",
    "    return result"
   ]
  },
  {
   "cell_type": "code",
   "execution_count": null,
   "metadata": {},
   "outputs": [],
   "source": [
    "# ans 2 \n",
    "results = check_all(data_split)\n",
    "np.sum(results)\n"
   ]
  },
  {
   "cell_type": "code",
   "execution_count": null,
   "metadata": {},
   "outputs": [],
   "source": []
  }
 ],
 "metadata": {
  "kernelspec": {
   "display_name": ".venv",
   "language": "python",
   "name": "python3"
  },
  "language_info": {
   "codemirror_mode": {
    "name": "ipython",
    "version": 3
   },
   "file_extension": ".py",
   "mimetype": "text/x-python",
   "name": "python",
   "nbconvert_exporter": "python",
   "pygments_lexer": "ipython3",
   "version": "3.12.8"
  }
 },
 "nbformat": 4,
 "nbformat_minor": 2
}
