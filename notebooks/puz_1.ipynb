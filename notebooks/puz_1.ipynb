{
 "cells": [
  {
   "cell_type": "code",
   "execution_count": null,
   "metadata": {},
   "outputs": [],
   "source": [
    "# import exercise and libs\n",
    "\n",
    "import numpy as np\n",
    "import pandas as pd\n",
    "from aocd import get_data\n",
    "\n",
    "data = get_data(day=1, year=2024)"
   ]
  },
  {
   "cell_type": "code",
   "execution_count": null,
   "metadata": {},
   "outputs": [],
   "source": [
    "# split string of data to rows and sort\n",
    "data_rows = [row for row in data.split('\\n')]\n",
    "\n",
    "row_1 = np.array([int(row.split('   ')[0]) for row in data_rows])\n",
    "row_1.sort()\n",
    "row_2 = np.array([int(row.split('   ')[1]) for row in data_rows])\n",
    "row_2.sort()\n"
   ]
  },
  {
   "cell_type": "code",
   "execution_count": null,
   "metadata": {},
   "outputs": [],
   "source": [
    "# Answer 1: compute the total difference between both lists\n",
    "df = pd.DataFrame(zip(row_1,row_2))\n",
    "df['delta'] = df[0]-df[1]\n",
    "df['delta'] = np.abs(df['delta'])\n",
    "df['delta'].sum()"
   ]
  },
  {
   "cell_type": "code",
   "execution_count": null,
   "metadata": {},
   "outputs": [],
   "source": [
    "# Answer 2: multiply each number in list 1 with the number of times it appears in list 2\n",
    "[r for r in row_1]"
   ]
  },
  {
   "cell_type": "code",
   "execution_count": null,
   "metadata": {},
   "outputs": [],
   "source": []
  },
  {
   "cell_type": "code",
   "execution_count": null,
   "metadata": {},
   "outputs": [],
   "source": []
  },
  {
   "cell_type": "code",
   "execution_count": null,
   "metadata": {},
   "outputs": [],
   "source": []
  }
 ],
 "metadata": {
  "kernelspec": {
   "display_name": ".venv",
   "language": "python",
   "name": "python3"
  },
  "language_info": {
   "codemirror_mode": {
    "name": "ipython",
    "version": 3
   },
   "file_extension": ".py",
   "mimetype": "text/x-python",
   "name": "python",
   "nbconvert_exporter": "python",
   "pygments_lexer": "ipython3",
   "version": "3.12.7"
  }
 },
 "nbformat": 4,
 "nbformat_minor": 2
}
