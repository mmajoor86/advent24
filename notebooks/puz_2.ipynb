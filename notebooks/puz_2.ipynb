{
 "cells": [
  {
   "cell_type": "code",
   "execution_count": null,
   "metadata": {},
   "outputs": [],
   "source": [
    "# import exercise and libs\n",
    "\n",
    "import numpy as np\n",
    "import pandas as pd\n",
    "from aocd import get_data\n",
    "\n",
    "data = get_data(day=2, year=2024)\n",
    "\n",
    "test = '''7 6 4 2 1\n",
    "1 2 7 8 9\n",
    "9 7 6 2 1\n",
    "1 3 2 4 5\n",
    "8 6 4 4 1\n",
    "1 3 6 7 9'''"
   ]
  },
  {
   "cell_type": "code",
   "execution_count": null,
   "metadata": {},
   "outputs": [],
   "source": [
    "# Data Prep: make a list of lists\n",
    "listed_data = [i.split(' ') for i in data.split('\\n')]\n",
    "listed_num_data = [[int(j) for j in i] for i  in listed_data]\n",
    "list_diffs = [[list_[n]-list_[n-1] for n in range(1,len(list_))] for list_ in listed_num_data]\n"
   ]
  },
  {
   "cell_type": "code",
   "execution_count": null,
   "metadata": {},
   "outputs": [],
   "source": [
    "def check(lijst:list):\n",
    "  if (all(i > 0 for i in lijst) or all(i < 0 for i in lijst)) and (min([abs(ele) for ele in lijst])>0) and (max([abs(ele) for ele in lijst])<4):\n",
    "    return 1\n",
    "  else:\n",
    "    return 0"
   ]
  },
  {
   "cell_type": "code",
   "execution_count": null,
   "metadata": {},
   "outputs": [],
   "source": [
    "res = [check(lijst) for lijst in list_diffs]\n",
    "np.sum(res)"
   ]
  },
  {
   "cell_type": "code",
   "execution_count": null,
   "metadata": {},
   "outputs": [],
   "source": [
    "def check_damper(lijst):\n",
    "    difs = [lijst[n]-lijst[n-1] for n in range(1,len(lijst))] \n",
    "    # do og check:\n",
    "    check_og = check(difs)\n",
    "    if check_og == 1:\n",
    "        # og check passed: no need to continue\n",
    "        return 1\n",
    "    else:\n",
    "        checks = []\n",
    "        for i in range(len(lijst)):\n",
    "            lijst_ = lijst.copy()\n",
    "            lijst_.pop(i)\n",
    "            difs_ = [lijst_[n]-lijst_[n-1] for n in range(1,len(lijst_))] \n",
    "            checks.append(check(difs_))\n",
    "        return max(checks)\n"
   ]
  },
  {
   "cell_type": "code",
   "execution_count": null,
   "metadata": {},
   "outputs": [],
   "source": [
    "res = [check_damper(lijst) for lijst in listed_num_data]\n",
    "np.sum(res)"
   ]
  },
  {
   "cell_type": "code",
   "execution_count": null,
   "metadata": {},
   "outputs": [],
   "source": []
  },
  {
   "cell_type": "code",
   "execution_count": null,
   "metadata": {},
   "outputs": [],
   "source": []
  }
 ],
 "metadata": {
  "kernelspec": {
   "display_name": ".venv",
   "language": "python",
   "name": "python3"
  },
  "language_info": {
   "codemirror_mode": {
    "name": "ipython",
    "version": 3
   },
   "file_extension": ".py",
   "mimetype": "text/x-python",
   "name": "python",
   "nbconvert_exporter": "python",
   "pygments_lexer": "ipython3",
   "version": "3.12.8"
  }
 },
 "nbformat": 4,
 "nbformat_minor": 2
}
