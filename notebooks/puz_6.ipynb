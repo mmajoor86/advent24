{
 "cells": [
  {
   "cell_type": "markdown",
   "metadata": {},
   "source": [
    "# import libs"
   ]
  },
  {
   "cell_type": "code",
   "execution_count": null,
   "metadata": {},
   "outputs": [],
   "source": [
    "import numpy as np\n",
    "import pandas as pd\n",
    "from aocd import get_data\n",
    "import re\n",
    "import copy"
   ]
  },
  {
   "cell_type": "markdown",
   "metadata": {},
   "source": [
    "# import and clean data"
   ]
  },
  {
   "cell_type": "code",
   "execution_count": null,
   "metadata": {},
   "outputs": [],
   "source": [
    "data = get_data(day=6, year=2024)\n",
    "\n",
    "def parse_map(input_map):\n",
    "     rows = input_map.strip().split('\\n')\n",
    "     map_grid = [list(row) for row in rows]\n",
    "     return map_grid\n",
    "\n",
    "def find_guard(map_grid):\n",
    "    directions = {'^': (-1, 0), 'v': (1, 0), '<': (0, -1), '>': (0, 1)}\n",
    "    for i, row in enumerate(map_grid):\n",
    "        for j, cell in enumerate(row):\n",
    "            if cell in directions:\n",
    "                return (i, j, cell)\n",
    "    return None\n",
    "\n",
    "def turn_right(direction):\n",
    "    right_turn = {'^': '>', '>': 'v', 'v': '<', '<': '^'}\n",
    "    return right_turn[direction]\n",
    "\n",
    "def move_forward(position, direction):\n",
    "    directions = {'^': (-1, 0), 'v': (1, 0), '<': (0, -1), '>': (0, 1)}\n",
    "    return (position[0] + directions[direction][0], position[1] + directions[direction][1])\n",
    "\n",
    "def is_within_bounds(position, map_grid):\n",
    "    return 0 <= position[0] < len(map_grid) and 0 <= position[1] < len(map_grid[0])\n",
    "\n",
    "def simulate_guard(input_map):\n",
    "    map_grid = parse_map(input_map)\n",
    "    guard_position = find_guard(map_grid)\n",
    "    if not guard_position:\n",
    "        return 0\n",
    "    guard_row, guard_col, direction = guard_position\n",
    "    visited_positions = set()\n",
    "    visited_positions.add((guard_row, guard_col))\n",
    "\n",
    "    while True:\n",
    "        next_row, next_col = move_forward((guard_row, guard_col), direction)\n",
    "        if not is_within_bounds((next_row, next_col), map_grid) or map_grid[next_row][next_col] == '#':\n",
    "            direction = turn_right(direction)\n",
    "        else:\n",
    "            guard_row, guard_col = next_row, next_col\n",
    "            visited_positions.add((guard_row, guard_col))\n",
    "            map_grid[guard_row][guard_col] = 'X'\n",
    "            if not is_within_bounds(move_forward((guard_row, guard_col), direction), map_grid):\n",
    "                break\n",
    "    \n",
    "    return len(visited_positions)"
   ]
  },
  {
   "cell_type": "code",
   "execution_count": null,
   "metadata": {},
   "outputs": [],
   "source": [
    "simulate_guard(data)"
   ]
  },
  {
   "cell_type": "markdown",
   "metadata": {},
   "source": [
    "# test data"
   ]
  },
  {
   "cell_type": "code",
   "execution_count": null,
   "metadata": {},
   "outputs": [],
   "source": [
    "from copy import deepcopy\n",
    "\n",
    "p = data.split('\\n')\n",
    "puzzle = []\n",
    "\n",
    "for i in p:\n",
    "    puzzle.append([j for j in i])\n",
    "\n",
    "def direction(puzzle):\n",
    "    for i in range(len(puzzle)):\n",
    "        for j in range(len(puzzle[0])):\n",
    "            if puzzle[i][j] in '^v><':\n",
    "                return puzzle[i][j]\n",
    "def starting(puzzle):\n",
    "    for i in range(len(puzzle)):\n",
    "        for j in range(len(puzzle[0])):\n",
    "            if puzzle[i][j] in '^v><':\n",
    "                return (i, j)\n",
    "ans = 0\n",
    "start = starting(puzzle)\n",
    "dir = direction(puzzle)\n",
    "puzzle2 = deepcopy(puzzle)\n",
    "\n",
    "def walkGuard(grid, start, dir):\n",
    "    pos = start\n",
    "    dirs = {'<': (0, -1), '>': (0, 1), '^': (-1, 0), 'v': (1, 0)}\n",
    "    prevPos = start\n",
    "    walking = True\n",
    "    # Add 'X' until you reach a '#'.\n",
    "    while walking:\n",
    "        prevPos = pos\n",
    "        pos = tuple(map(lambda i, j: i + j, pos, dirs[dir]))\n",
    "        if (pos[0] > (len(grid) - 1)) or (pos[1] > (len(grid[0]) - 1)) or (pos[0] < 0) or (pos[1] < 0):\n",
    "            return False\n",
    "        if grid[pos[0]][pos[1]] == '#':\n",
    "            walking = False\n",
    "            if dir == '>':\n",
    "                dir = 'v'\n",
    "                walkGuard(grid, prevPos, dir)\n",
    "            elif dir == 'v':\n",
    "                dir = '<'\n",
    "                walkGuard(grid, prevPos, dir)\n",
    "            elif dir == '<':\n",
    "                dir = '^'\n",
    "                walkGuard(grid, prevPos, dir)\n",
    "            elif dir == '^':\n",
    "                dir = '>'\n",
    "                walkGuard(grid, prevPos, dir)\n",
    "        if (pos[0] > (len(grid) - 1)) or (pos[1] > (len(grid[0]) - 1)):\n",
    "            return False\n",
    "\n",
    "\n",
    "for i in range(len(puzzle)):\n",
    "    for j in range(len(puzzle[0])):\n",
    "        puzzle2[i][j] = '#'\n",
    "        try:\n",
    "            walkGuard(puzzle2, start, dir)\n",
    "            puzzle2 = deepcopy(puzzle)\n",
    "        except RecursionError:\n",
    "            puzzle2 = deepcopy(puzzle)\n",
    "            ans += 1\n",
    "\n",
    "\n",
    "print(f'Part Two: {ans}')"
   ]
  },
  {
   "cell_type": "code",
   "execution_count": null,
   "metadata": {},
   "outputs": [],
   "source": []
  }
 ],
 "metadata": {
  "kernelspec": {
   "display_name": ".venv",
   "language": "python",
   "name": "python3"
  },
  "language_info": {
   "codemirror_mode": {
    "name": "ipython",
    "version": 3
   },
   "file_extension": ".py",
   "mimetype": "text/x-python",
   "name": "python",
   "nbconvert_exporter": "python",
   "pygments_lexer": "ipython3",
   "version": "3.12.8"
  }
 },
 "nbformat": 4,
 "nbformat_minor": 2
}
