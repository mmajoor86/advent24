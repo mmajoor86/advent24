{
 "cells": [
  {
   "cell_type": "markdown",
   "metadata": {},
   "source": [
    "# import libs"
   ]
  },
  {
   "cell_type": "code",
   "execution_count": null,
   "metadata": {},
   "outputs": [],
   "source": [
    "import numpy as np\n",
    "import pandas as pd\n",
    "from aocd import get_data\n",
    "import re"
   ]
  },
  {
   "cell_type": "markdown",
   "metadata": {},
   "source": [
    "# import and clean data"
   ]
  },
  {
   "cell_type": "code",
   "execution_count": null,
   "metadata": {},
   "outputs": [],
   "source": [
    "data = get_data(day=5, year=2024)\n",
    "\n",
    "rules = data.split('\\n\\n')[0].split('\\n')\n",
    "data = data.split('\\n\\n')[1].split('\\n')\n",
    "data = [[int(element) for element in row.split(',')] for row in data]\n",
    "rules = [[int(element) for element in row.split('|')] for row in rules]\n",
    "rules = pd.DataFrame(rules)"
   ]
  },
  {
   "cell_type": "markdown",
   "metadata": {},
   "source": [
    "# test data"
   ]
  },
  {
   "cell_type": "code",
   "execution_count": null,
   "metadata": {},
   "outputs": [],
   "source": [
    "test_rules = \"\"\"47|53\n",
    "97|13\n",
    "97|61\n",
    "97|47\n",
    "75|29\n",
    "61|13\n",
    "75|53\n",
    "29|13\n",
    "97|29\n",
    "53|29\n",
    "61|53\n",
    "97|53\n",
    "61|29\n",
    "47|13\n",
    "75|47\n",
    "97|75\n",
    "47|61\n",
    "75|61\n",
    "47|29\n",
    "75|13\n",
    "53|13\"\"\"\n",
    "\n",
    "test_data = \"\"\"75,47,61,53,29\n",
    "97,61,53,29,13\n",
    "75,29,13\n",
    "75,97,47,61,53\n",
    "61,13,29\n",
    "97,13,75,29,47\"\"\"\n",
    "\n",
    "\n",
    "t_rules = test_rules.split('\\n')\n",
    "t_data = test_data.split('\\n')\n",
    "t_data = [[int(element) for element in row.split(',')] for row in t_data]\n",
    "t_rules = [[int(element) for element in row.split('|')] for row in t_rules]\n",
    "t_rules = pd.DataFrame(t_rules)"
   ]
  },
  {
   "cell_type": "markdown",
   "metadata": {},
   "source": [
    "# ex1: find valid sequences"
   ]
  },
  {
   "cell_type": "code",
   "execution_count": null,
   "metadata": {},
   "outputs": [],
   "source": [
    "rules = data.split('\\n\\n')[0].split('\\n') \n",
    "updates = data.split('\\n\\n')[1].split('\\n') \n",
    "\n",
    "# Convert data to lists of integers\n",
    "updates = [[int(element) for element in row.split(',')] for row in updates]\n",
    "rules = [[int(element) for element in row.split('|')] for row in rules]\n",
    "\n",
    "# Convert rules to DataFrame for better handling\n",
    "rules_df = pd.DataFrame(rules, columns=['before', 'after'])\n",
    "\n",
    "# Function to find sequences that do not break a rule \n",
    "def find_valid_sequences(updates, rules_df):\n",
    "    valid_sequences = []\n",
    "    for update in updates:\n",
    "        is_valid = True\n",
    "        for i in range(len(update)): \n",
    "            number = update[i]\n",
    "            sublist = update[:i]\n",
    "            p_violations = rules_df.loc[rules_df['before'] == number]['after']\n",
    "            violations = set(sublist) & set(p_violations)\n",
    "            if len(violations) > 0:\n",
    "                is_valid = False\n",
    "                break\n",
    "        if is_valid:\n",
    "            valid_sequences.append(update)\n",
    "    return valid_sequences\n",
    "\n",
    "\n",
    "def middle_observation(lst):\n",
    "    return lst[len(lst) // 2]\n",
    "\n",
    "# Find valid sequences\n",
    "valid_sequences = find_valid_sequences(updates, rules_df)\n",
    "\n"
   ]
  },
  {
   "cell_type": "markdown",
   "metadata": {},
   "source": [
    "# ex1: find middle of each valid sequence and sum"
   ]
  },
  {
   "cell_type": "code",
   "execution_count": null,
   "metadata": {},
   "outputs": [],
   "source": [
    "# Calculate the sum of middle observations\n",
    "middle_sum = sum(middle_observation(seq) for seq in valid_sequences)\n",
    "\n",
    "# Print the results\n",
    "print(\"Valid sequences:\", valid_sequences)\n",
    "print(\"Sum of middle observations:\", middle_sum)"
   ]
  },
  {
   "cell_type": "markdown",
   "metadata": {},
   "source": [
    "# Ex 2: change the invalid sequences"
   ]
  },
  {
   "cell_type": "code",
   "execution_count": null,
   "metadata": {},
   "outputs": [],
   "source": [
    "invalid = [update for update in updates if update not in valid_sequences]"
   ]
  },
  {
   "cell_type": "code",
   "execution_count": null,
   "metadata": {},
   "outputs": [],
   "source": [
    "# Function to adjust sequences according to the rules\n",
    "def adjust_sequence(sequence, rules_df):\n",
    "    print(f'Checking sequence {sequence}')\n",
    "    adjusted = sequence[:]\n",
    "    \n",
    "    while True:\n",
    "        made_adjustment = False\n",
    "        for i in range(len(adjusted)):\n",
    "            number = adjusted[i]\n",
    "            sublist = adjusted[:i]\n",
    "            p_violations = rules_df.loc[rules_df['before'] == number]['after']\n",
    "            violations = set(sublist) & set(p_violations)\n",
    "            \n",
    "            if len(violations) > 0:\n",
    "                for violation in violations:\n",
    "                    idx_violation = adjusted.index(violation)\n",
    "                    if idx_violation < i:\n",
    "                        adjusted[i], adjusted[idx_violation] = adjusted[idx_violation], adjusted[i]\n",
    "                        #print(f'Swapped {number} and {violation}')\n",
    "                        made_adjustment = True\n",
    "        \n",
    "        if not made_adjustment:\n",
    "            break\n",
    "            \n",
    "    return adjusted\n",
    "\n",
    "# Adjust invalid sequences\n",
    "adjusted_sequences = [adjust_sequence(seq, rules_df) for seq in invalid]\n",
    "\n",
    "\n",
    "middle_sum = sum(middle_observation(seq) for seq in adjusted_sequences)\n",
    "\n",
    "# Print the results\n",
    "print(\"Valid sequences:\", valid_sequences)\n",
    "print(\"Sum of middle observations:\", middle_sum)"
   ]
  },
  {
   "cell_type": "code",
   "execution_count": null,
   "metadata": {},
   "outputs": [],
   "source": []
  }
 ],
 "metadata": {
  "kernelspec": {
   "display_name": ".venv",
   "language": "python",
   "name": "python3"
  },
  "language_info": {
   "codemirror_mode": {
    "name": "ipython",
    "version": 3
   },
   "file_extension": ".py",
   "mimetype": "text/x-python",
   "name": "python",
   "nbconvert_exporter": "python",
   "pygments_lexer": "ipython3",
   "version": "3.12.8"
  }
 },
 "nbformat": 4,
 "nbformat_minor": 2
}
